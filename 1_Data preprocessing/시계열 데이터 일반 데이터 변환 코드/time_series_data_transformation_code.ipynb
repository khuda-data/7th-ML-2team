{
 "cells": [
  {
   "cell_type": "code",
   "execution_count": 11,
   "metadata": {},
   "outputs": [],
   "source": [
    "# 라이브러리 임포트\n",
    "import pandas as pd\n",
    "import numpy as np\n",
    "\n",
    "# 파일 경로 설정\n",
    "original_file = \"C:\\\\Users\\\\delta\\\\Desktop\\\\data\\\\대전_물가_IQR_이상치제거_결측치보완.xlsx\"   # 원본 파일 경로\n",
    "output_file = \"C:\\\\Users\\\\delta\\\\Desktop\\\\data\\\\대전_물가_IQR_이상치제거_결측치보완_시계열변환.xlsx\"       # 수정된 파일 저장 경로"
   ]
  },
  {
   "cell_type": "code",
   "execution_count": 12,
   "metadata": {},
   "outputs": [],
   "source": [
    "# 데이터 읽기 (날짜 컬럼은 날짜형식으로 파싱)\n",
    "df = pd.read_excel(original_file, parse_dates=['시간'])\n",
    "\n",
    "# 날짜 순으로 정렬 (정확한 이전 월 데이터를 위해)\n",
    "df.sort_values(['품목', '동', '시간'], inplace=True)\n",
    "\n",
    "# 증감 퍼센트 계산\n",
    "# 수학적 원리: \n",
    "#   증감퍼센트 = ((현재 가격 - 이전 가격) / 이전 가격) * 100\n",
    "# Pandas의 pct_change() 함수로 이전 행(이전 월) 대비 증감율을 계산합니다.\n",
    "df['증감퍼센트'] = df.groupby(['품목', '동'])['가격'].pct_change(fill_method=None) * 100\n",
    "\n",
    "# 소수점 이하 2자리까지 반올림 (선택 사항)\n",
    "df['증감퍼센트'] = df['증감퍼센트'].round(2)\n",
    "\n",
    "# 결과를 EXCEL 파일로 저장 (인덱스 제외)\n",
    "df.to_excel(output_file, index=False)"
   ]
  }
 ],
 "metadata": {
  "kernelspec": {
   "display_name": "base",
   "language": "python",
   "name": "python3"
  },
  "language_info": {
   "codemirror_mode": {
    "name": "ipython",
    "version": 3
   },
   "file_extension": ".py",
   "mimetype": "text/x-python",
   "name": "python",
   "nbconvert_exporter": "python",
   "pygments_lexer": "ipython3",
   "version": "3.12.7"
  }
 },
 "nbformat": 4,
 "nbformat_minor": 2
}
